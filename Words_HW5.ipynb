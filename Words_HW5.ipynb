{
  "nbformat": 4,
  "nbformat_minor": 0,
  "metadata": {
    "colab": {
      "provenance": [],
      "authorship_tag": "ABX9TyOxQscrirImJAYGmuGSHYT9",
      "include_colab_link": true
    },
    "kernelspec": {
      "name": "python3",
      "display_name": "Python 3"
    },
    "language_info": {
      "name": "python"
    }
  },
  "cells": [
    {
      "cell_type": "markdown",
      "metadata": {
        "id": "view-in-github",
        "colab_type": "text"
      },
      "source": [
        "<a href=\"https://colab.research.google.com/github/AngelikaBaloy/DS1002/blob/main/Words_HW5.ipynb\" target=\"_parent\"><img src=\"https://colab.research.google.com/assets/colab-badge.svg\" alt=\"Open In Colab\"/></a>"
      ]
    },
    {
      "cell_type": "markdown",
      "source": [
        "Words HW5 - DS 1002 Angelika Baloy"
      ],
      "metadata": {
        "id": "tE_AhUuSccuT"
      }
    },
    {
      "cell_type": "code",
      "execution_count": 3,
      "metadata": {
        "colab": {
          "base_uri": "https://localhost:8080/"
        },
        "id": "mX8Exe62b4bM",
        "outputId": "4fb68638-9685-4dc3-84d1-ffa69e5d3dd3"
      },
      "outputs": [
        {
          "output_type": "stream",
          "name": "stdout",
          "text": [
            "Collecting english_words\n",
            "  Downloading english-words-2.0.1.tar.gz (8.2 MB)\n",
            "\u001b[2K     \u001b[90m━━━━━━━━━━━━━━━━━━━━━━━━━━━━━━━━━━━━━━━━\u001b[0m \u001b[32m8.2/8.2 MB\u001b[0m \u001b[31m19.4 MB/s\u001b[0m eta \u001b[36m0:00:00\u001b[0m\n",
            "\u001b[?25h  Installing build dependencies ... \u001b[?25l\u001b[?25hdone\n",
            "  Getting requirements to build wheel ... \u001b[?25l\u001b[?25hdone\n",
            "  Preparing metadata (pyproject.toml) ... \u001b[?25l\u001b[?25hdone\n",
            "Building wheels for collected packages: english_words\n",
            "  Building wheel for english_words (pyproject.toml) ... \u001b[?25l\u001b[?25hdone\n",
            "  Created wheel for english_words: filename=english_words-2.0.1-py3-none-any.whl size=8196238 sha256=c4fedaec84360da0e9305b3f41562fb96b6b74b870aded2a0d0a8523892d72ff\n",
            "  Stored in directory: /root/.cache/pip/wheels/f0/e6/d9/16a123647999fe535f03a36e7af23eef203736d84c7ca25b0b\n",
            "Successfully built english_words\n",
            "Installing collected packages: english_words\n",
            "Successfully installed english_words-2.0.1\n"
          ]
        }
      ],
      "source": [
        "!pip install english_words\n",
        "from english_words import get_english_words_set\n",
        "words = get_english_words_set(['web2'], lower = True)"
      ]
    },
    {
      "cell_type": "code",
      "source": [
        "len(wordlist) #length of wordlist is 234450"
      ],
      "metadata": {
        "colab": {
          "base_uri": "https://localhost:8080/"
        },
        "id": "MkExr_lV3xSo",
        "outputId": "22582ed9-0b1a-4096-ea5c-2b997d291b54"
      },
      "execution_count": 89,
      "outputs": [
        {
          "output_type": "execute_result",
          "data": {
            "text/plain": [
              "234450"
            ]
          },
          "metadata": {},
          "execution_count": 89
        }
      ]
    },
    {
      "cell_type": "code",
      "source": [
        "type(words) # words = set\n",
        "wordlist = list(words) # wordlist = list\n",
        "print(wordlist[:10]) # the list appears to be in a random order with varying word lengths"
      ],
      "metadata": {
        "colab": {
          "base_uri": "https://localhost:8080/"
        },
        "id": "9qFfuYOKdDE-",
        "outputId": "b74a12f4-7ea6-4c11-e243-c92e5741e1cc"
      },
      "execution_count": 90,
      "outputs": [
        {
          "output_type": "stream",
          "name": "stdout",
          "text": [
            "['unituberculate', 'iodhydrin', 'unlogged', 'owyheeite', 'manjeri', 'proctitis', 'sluthood', 'abolition', 'nettable', 'excitometabolic']\n"
          ]
        }
      ]
    },
    {
      "cell_type": "code",
      "source": [
        "alpha_list = (sorted(wordlist))\n",
        "alpha_list[:10]"
      ],
      "metadata": {
        "colab": {
          "base_uri": "https://localhost:8080/"
        },
        "id": "xwE3Z4Zpe2PN",
        "outputId": "a622ee58-6bf8-4a63-f44f-ad9a89f83edc"
      },
      "execution_count": 91,
      "outputs": [
        {
          "output_type": "execute_result",
          "data": {
            "text/plain": [
              "['a',\n",
              " 'aa',\n",
              " 'aal',\n",
              " 'aalii',\n",
              " 'aam',\n",
              " 'aani',\n",
              " 'aardvark',\n",
              " 'aardwolf',\n",
              " 'aaron',\n",
              " 'aaronic']"
            ]
          },
          "metadata": {},
          "execution_count": 91
        }
      ]
    },
    {
      "cell_type": "code",
      "source": [
        "a_list = [word for word in wordlist if word.startswith('a')]\n",
        "print(len(a_list)) # there are 16982 words that start with 'a'"
      ],
      "metadata": {
        "colab": {
          "base_uri": "https://localhost:8080/"
        },
        "id": "y0boxhnpfv5W",
        "outputId": "95c12371-126e-4593-fc9c-41351b70378e"
      },
      "execution_count": 92,
      "outputs": [
        {
          "output_type": "stream",
          "name": "stdout",
          "text": [
            "16982\n"
          ]
        }
      ]
    },
    {
      "cell_type": "code",
      "source": [
        "\n",
        "q_list = [word for word in wordlist if 'q' in word]\n",
        "print(len(q_list)) # there are 3624 words with 'q' in them\n"
      ],
      "metadata": {
        "colab": {
          "base_uri": "https://localhost:8080/"
        },
        "id": "6Fpd0Nd1mEe2",
        "outputId": "d2dbd3db-1e49-415b-f3a2-4ddd11332442"
      },
      "execution_count": 93,
      "outputs": [
        {
          "output_type": "stream",
          "name": "stdout",
          "text": [
            "3624\n"
          ]
        }
      ]
    },
    {
      "cell_type": "code",
      "source": [
        "e_list = [word for word in wordlist if 'e' in word]\n",
        "no_e = (len(wordlist) - len(e_list))\n",
        "print(no_e) # there are 76966 words without an 'e'\n",
        "no_e = (len(e_list)/len(wordlist))\n",
        "print(no_e) # 0.6717 of all words do not have an 'e'"
      ],
      "metadata": {
        "colab": {
          "base_uri": "https://localhost:8080/"
        },
        "id": "nHKGtYJjHCLr",
        "outputId": "5c51964a-4ba7-44bc-bee4-0a8c24dd3568"
      },
      "execution_count": 94,
      "outputs": [
        {
          "output_type": "stream",
          "name": "stdout",
          "text": [
            "76966\n",
            "0.6717167839624654\n"
          ]
        }
      ]
    },
    {
      "cell_type": "code",
      "source": [
        "import numpy as np"
      ],
      "metadata": {
        "id": "GmjHbnaLn8rB"
      },
      "execution_count": 9,
      "outputs": []
    },
    {
      "cell_type": "code",
      "source": [
        "wordlist_array = np.array(wordlist)\n",
        "a_list_array = np.array(a_list)\n",
        "q_list_array = np.array(q_list)\n",
        "e_list_array = np.array(e_list)"
      ],
      "metadata": {
        "id": "ZWnytlGjn_eu"
      },
      "execution_count": 95,
      "outputs": []
    },
    {
      "cell_type": "code",
      "source": [
        "alphabet = [chr(i) for i in range(ord('a'), ord('z') + 1)]\n",
        "print(alphabet)\n",
        "# this code takes the alphabet and orders it alphabetically"
      ],
      "metadata": {
        "colab": {
          "base_uri": "https://localhost:8080/"
        },
        "id": "9T9Pa9zDoO-M",
        "outputId": "c26de6f9-7b04-4348-a5b9-15aa19f2299f"
      },
      "execution_count": 96,
      "outputs": [
        {
          "output_type": "stream",
          "name": "stdout",
          "text": [
            "['a', 'b', 'c', 'd', 'e', 'f', 'g', 'h', 'i', 'j', 'k', 'l', 'm', 'n', 'o', 'p', 'q', 'r', 's', 't', 'u', 'v', 'w', 'x', 'y', 'z']\n"
          ]
        }
      ]
    },
    {
      "cell_type": "code",
      "source": [
        "type(alphabet)"
      ],
      "metadata": {
        "colab": {
          "base_uri": "https://localhost:8080/"
        },
        "id": "amIkEzkRjM2e",
        "outputId": "010bc539-89e0-4e05-a104-adb713ff55ec"
      },
      "execution_count": 12,
      "outputs": [
        {
          "output_type": "execute_result",
          "data": {
            "text/plain": [
              "list"
            ]
          },
          "metadata": {},
          "execution_count": 12
        }
      ]
    },
    {
      "cell_type": "code",
      "source": [
        "import matplotlib.pyplot as plt"
      ],
      "metadata": {
        "id": "qgOMwNo8Z66X"
      },
      "execution_count": 13,
      "outputs": []
    },
    {
      "cell_type": "code",
      "source": [
        "letter_counts = list()\n",
        "\n",
        "for letter in alphabet:\n",
        "  first_letter = [word for word in wordlist if word.startswith(letter)]\n",
        "  letter_counts.append(len(first_letter))\n",
        "\n",
        "print(letter_counts)\n"
      ],
      "metadata": {
        "colab": {
          "base_uri": "https://localhost:8080/"
        },
        "id": "cr4SIOWEcbLc",
        "outputId": "c790acb4-9a86-4f25-e5b8-10907ae02d2b"
      },
      "execution_count": 22,
      "outputs": [
        {
          "output_type": "stream",
          "name": "stdout",
          "text": [
            "[16982, 10970, 19789, 10853, 8705, 6841, 6772, 8997, 8787, 1604, 2242, 6234, 12516, 6747, 7831, 24342, 1148, 9618, 24937, 12855, 16364, 3418, 3913, 380, 663, 942]\n"
          ]
        }
      ]
    },
    {
      "cell_type": "code",
      "source": [
        "plt.bar(alphabet, letter_counts)\n",
        "plt.plot()\n",
        "\n",
        "plt.xlabel(\"First Letters\")\n",
        "plt.ylabel(\"Number of Words\")\n",
        "plt.title(\"Words Starting With Each Letter\")\n",
        "plt.show()"
      ],
      "metadata": {
        "colab": {
          "base_uri": "https://localhost:8080/",
          "height": 472
        },
        "id": "-eep_OZTafmx",
        "outputId": "d1cfdd1b-9287-4413-d949-e812e2c8acf6"
      },
      "execution_count": 24,
      "outputs": [
        {
          "output_type": "display_data",
          "data": {
            "text/plain": [
              "<Figure size 640x480 with 1 Axes>"
            ],
            "image/png": "[encoded data removed]"
          },
          "metadata": {}
        }
      ]
    },
    {
      "cell_type": "code",
      "source": [
        "word_length = list()\n",
        "\n",
        "for word in wordlist:\n",
        "  word_length.append(len(i))\n",
        "\n",
        "lengths = sorted(word_length)\n",
        "lengths[-6:] #the six longest words are 24/28 letters long\n"
      ],
      "metadata": {
        "colab": {
          "base_uri": "https://localhost:8080/"
        },
        "id": "aIhaYcIAoPvf",
        "outputId": "bb589a60-febc-4bbb-ea96-65b9fc24f5ae"
      },
      "execution_count": 49,
      "outputs": [
        {
          "output_type": "execute_result",
          "data": {
            "text/plain": [
              "[24, 24, 24, 24, 24, 28]"
            ]
          },
          "metadata": {},
          "execution_count": 49
        }
      ]
    },
    {
      "cell_type": "code",
      "source": [
        "for word in wordlist:\n",
        "  if len(word) >= 24:\n",
        "    print(word) #prints six longest words"
      ],
      "metadata": {
        "colab": {
          "base_uri": "https://localhost:8080/"
        },
        "id": "6xivt4tJ2AUc",
        "outputId": "4f2a49a4-fa20-402c-e2c7-4f5adc71c702"
      },
      "execution_count": 52,
      "outputs": [
        {
          "output_type": "stream",
          "name": "stdout",
          "text": [
            "formaldehydesulphoxylate\n",
            "thyroparathyroidectomize\n",
            "tetraiodophenolphthalein\n",
            "antidisestablishmentarianism\n",
            "pathologicopsychological\n",
            "scientificophilosophical\n"
          ]
        }
      ]
    },
    {
      "cell_type": "code",
      "source": [
        "from collections import Counter\n",
        "\n",
        "y = Counter(lengths)\n",
        "freq = list(y.items())\n",
        "print(freq) #dict output of word length/freq\n",
        "# the most common length of a word is 9 letters\n"
      ],
      "metadata": {
        "colab": {
          "base_uri": "https://localhost:8080/"
        },
        "id": "CJFBWdTU-Iyx",
        "outputId": "7a2f0227-ea80-41c3-a577-cabe4625866a"
      },
      "execution_count": 70,
      "outputs": [
        {
          "output_type": "stream",
          "name": "stdout",
          "text": [
            "[(1, 26), (2, 139), (3, 1300), (4, 5006), (5, 9979), (6, 17468), (7, 23723), (8, 29851), (9, 32294), (10, 30828), (11, 25968), (12, 20453), (13, 14925), (14, 9763), (15, 5923), (16, 3376), (17, 1814), (18, 842), (19, 428), (20, 198), (21, 82), (22, 41), (23, 17), (24, 5), (28, 1)]\n"
          ]
        }
      ]
    },
    {
      "cell_type": "code",
      "source": [
        "plt.hist(word_length, bins = 25)\n",
        "plt.title(\"Words per Word Length\")\n",
        "plt.xlabel(\"Word Length\")\n",
        "plt.ylabel(\"Frequency\")\n",
        "plt.show()\n"
      ],
      "metadata": {
        "colab": {
          "base_uri": "https://localhost:8080/",
          "height": 472
        },
        "id": "rbdPZuQqCpAJ",
        "outputId": "2acc0cb6-bf3b-4b9c-fe5f-f16a0710249d"
      },
      "execution_count": 86,
      "outputs": [
        {
          "output_type": "display_data",
          "data": {
            "text/plain": [
              "<Figure size 640x480 with 1 Axes>"
            ],
            "image/png": "[encoded data removed]"
          },
          "metadata": {}
        }
      ]
    },
    {
      "cell_type": "code",
      "source": [
        "v_a = list()\n",
        "\n",
        "for word in wordlist:\n",
        "  if 'a' in word and 'v' in word:\n",
        "    v_a.append(word)\n",
        "\n",
        "len(v_a) #0sec - 1 loop, 11347 words"
      ],
      "metadata": {
        "colab": {
          "base_uri": "https://localhost:8080/"
        },
        "id": "Z1gNCASlFmXk",
        "outputId": "c24e39a3-fc3f-4d4c-eedb-378d053cadb1"
      },
      "execution_count": 87,
      "outputs": [
        {
          "output_type": "execute_result",
          "data": {
            "text/plain": [
              "11347"
            ]
          },
          "metadata": {},
          "execution_count": 87
        }
      ]
    },
    {
      "cell_type": "code",
      "source": [
        "w_l = list()\n",
        "\n",
        "for word in wordlist:\n",
        "  if 'w' in word and 'l' in word:\n",
        "    w_l.append(word)\n",
        "\n",
        "len(w_l) #0sec - 1 loop, 4822 words"
      ],
      "metadata": {
        "colab": {
          "base_uri": "https://localhost:8080/"
        },
        "id": "RjwutTH-HLMj",
        "outputId": "f6123be2-1a8e-4d23-e05c-acf6f8c9447c"
      },
      "execution_count": 88,
      "outputs": [
        {
          "output_type": "execute_result",
          "data": {
            "text/plain": [
              "4822"
            ]
          },
          "metadata": {},
          "execution_count": 88
        }
      ]
    }
  ]
}