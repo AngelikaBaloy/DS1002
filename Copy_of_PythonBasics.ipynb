{
  "nbformat": 4,
  "nbformat_minor": 0,
  "metadata": {
    "colab": {
      "provenance": [],
      "include_colab_link": true
    },
    "kernelspec": {
      "name": "python3",
      "display_name": "Python 3"
    },
    "language_info": {
      "name": "python"
    }
  },
  "cells": [
    {
      "cell_type": "markdown",
      "metadata": {
        "id": "view-in-github",
        "colab_type": "text"
      },
      "source": [
        "<a href=\"https://colab.research.google.com/github/AngelikaBaloy/DS1002/blob/main/Copy_of_PythonBasics.ipynb\" target=\"_parent\"><img src=\"https://colab.research.google.com/assets/colab-badge.svg\" alt=\"Open In Colab\"/></a>"
      ]
    },
    {
      "cell_type": "markdown",
      "source": [
        "# Python basics\n"
      ],
      "metadata": {
        "id": "4aXTw3hU3eF1"
      }
    },
    {
      "cell_type": "markdown",
      "source": [
        "## Variables\n",
        "\n",
        "Variables allow a developer to use a name to refer to a value. Just like math variables, this allows you to manipulate the variable as an entity of its own, independent of what its value happens to be. In particular you can refer to the value by name; then you don't have to change the reference even if the value changes. Variables should be thought of as key-value pairs, keeping in mind that the \"value\" half can sometimes be quite complex.\n",
        "A variable can have a short name (like x or y) or a more descriptive name (age, subject_id, total_volume).\n",
        "\n",
        "Rules for Python variables:\n",
        "\n",
        "\n",
        "*   A variable name can only contain alpha-numeric characters and underscores (A-z, 0-9, and _ )\n",
        "\n",
        "*   A variable name must start with a letter or the underscore character\n",
        "\n",
        "*   A variable name cannot start with a number\n",
        "\n",
        "*   Variable names are case-sensitive (age, Age and AGE are three different variables)\n",
        "\n",
        "\n"
      ],
      "metadata": {
        "id": "lJTYqlp23nTG"
      }
    },
    {
      "cell_type": "code",
      "source": [
        "# a simple key-value pair, a variable and its value:\n",
        "\n",
        "favorite_number = 17"
      ],
      "metadata": {
        "id": "ULSNvFq_4vJu"
      },
      "execution_count": null,
      "outputs": []
    },
    {
      "cell_type": "markdown",
      "source": [
        "Define and populate a variable of your own below:\n"
      ],
      "metadata": {
        "id": "av3O4RuM41h6"
      }
    },
    {
      "cell_type": "code",
      "execution_count": null,
      "metadata": {
        "id": "eZRA-gw03chu",
        "outputId": "ff57ded1-048e-4ae0-bef1-98a3c4b3a7c9",
        "colab": {
          "base_uri": "https://localhost:8080/"
        }
      },
      "outputs": [
        {
          "output_type": "execute_result",
          "data": {
            "text/plain": [
              "69"
            ]
          },
          "metadata": {},
          "execution_count": 5
        }
      ],
      "source": [
        "age = 69\n",
        "age"
      ]
    },
    {
      "cell_type": "markdown",
      "source": [
        "**More Complex Variables**\n",
        "\n",
        "A variable can be populated with all sorts of data types:\n",
        "\n",
        "integers, booleans, strings, lists, tuples, dictionaries, etc."
      ],
      "metadata": {
        "id": "06bptNCB5Df6"
      }
    },
    {
      "cell_type": "code",
      "source": [
        "yellow_fruit = \"banana\"\n",
        "# string (like character from R)\n",
        "happy = True\n",
        "# boolean (like logical from R i guess)\n",
        "number = 3.14\n",
        "# float- number not an integer"
      ],
      "metadata": {
        "id": "EHgWkz4R5ZPX"
      },
      "execution_count": null,
      "outputs": []
    },
    {
      "cell_type": "code",
      "source": [
        "print(yellow_fruit)\n",
        "print(number)"
      ],
      "metadata": {
        "id": "YTo74CvY5aKh",
        "outputId": "f96a7151-3efb-468a-85b7-04df0844f0e2",
        "colab": {
          "base_uri": "https://localhost:8080/"
        }
      },
      "execution_count": null,
      "outputs": [
        {
          "output_type": "stream",
          "name": "stdout",
          "text": [
            "banana\n",
            "3.14\n"
          ]
        }
      ]
    },
    {
      "cell_type": "code",
      "source": [
        "type(number)\n",
        "# this is checking the type not literally typing\n",
        "type(happy)"
      ],
      "metadata": {
        "id": "CuiVxF8w5hjR",
        "outputId": "0e78e69e-6472-4f25-9df0-6ac481b843d7",
        "colab": {
          "base_uri": "https://localhost:8080/"
        }
      },
      "execution_count": null,
      "outputs": [
        {
          "output_type": "execute_result",
          "data": {
            "text/plain": [
              "bool"
            ]
          },
          "metadata": {},
          "execution_count": 15
        }
      ]
    },
    {
      "cell_type": "markdown",
      "source": [
        "## Lists\n",
        "\n",
        "You can put a list of items into a variable, too."
      ],
      "metadata": {
        "id": "B_cTF_2c5GEH"
      }
    },
    {
      "cell_type": "code",
      "source": [
        "fruit = [\"grape\", \"orange\", yellow_fruit]"
      ],
      "metadata": {
        "id": "VNUPO-jq7QuN"
      },
      "execution_count": null,
      "outputs": []
    },
    {
      "cell_type": "code",
      "source": [
        "print(fruit)"
      ],
      "metadata": {
        "id": "8nlaF1ix7XFv",
        "outputId": "9bf32327-4f43-4034-9e3e-df9e6c456b54",
        "colab": {
          "base_uri": "https://localhost:8080/"
        }
      },
      "execution_count": null,
      "outputs": [
        {
          "output_type": "stream",
          "name": "stdout",
          "text": [
            "['grape', 'orange', 'banana']\n"
          ]
        }
      ]
    },
    {
      "cell_type": "markdown",
      "source": [
        "## Indexing\n",
        "\n",
        "To access individual members of a list, you can use the index.\n",
        "\n",
        "Indices in Python (and most other languages, though notably not R) start at 0!"
      ],
      "metadata": {
        "id": "clhLiKST7n3g"
      }
    },
    {
      "cell_type": "code",
      "source": [
        "fruit[1]"
      ],
      "metadata": {
        "id": "toJaJADv70fZ",
        "outputId": "ea12d849-9f45-4a0d-cccc-0bf1388f9cc9",
        "colab": {
          "base_uri": "https://localhost:8080/",
          "height": 35
        }
      },
      "execution_count": null,
      "outputs": [
        {
          "output_type": "execute_result",
          "data": {
            "text/plain": [
              "'orange'"
            ],
            "application/vnd.google.colaboratory.intrinsic+json": {
              "type": "string"
            }
          },
          "metadata": {},
          "execution_count": 20
        }
      ]
    },
    {
      "cell_type": "code",
      "source": [
        "type(fruit)"
      ],
      "metadata": {
        "id": "Z9QZjVXF73e_",
        "outputId": "21659319-00cd-43e2-82dc-3ce003737922",
        "colab": {
          "base_uri": "https://localhost:8080/"
        }
      },
      "execution_count": null,
      "outputs": [
        {
          "output_type": "execute_result",
          "data": {
            "text/plain": [
              "list"
            ]
          },
          "metadata": {},
          "execution_count": 14
        }
      ]
    },
    {
      "cell_type": "code",
      "source": [
        "type(fruit[1])"
      ],
      "metadata": {
        "id": "ctaGmU1975u8",
        "outputId": "90d138b1-f279-41e4-87fd-acd9ad493e1a",
        "colab": {
          "base_uri": "https://localhost:8080/"
        }
      },
      "execution_count": null,
      "outputs": [
        {
          "output_type": "execute_result",
          "data": {
            "text/plain": [
              "str"
            ]
          },
          "metadata": {},
          "execution_count": 16
        }
      ]
    },
    {
      "cell_type": "markdown",
      "source": [
        "If you don't know an element is part of a list but you don't know its index, you can get it:"
      ],
      "metadata": {
        "id": "GBeAC58K8DkG"
      }
    },
    {
      "cell_type": "code",
      "source": [
        "grape_index = fruit.index(\"banana\")\n",
        "# .index"
      ],
      "metadata": {
        "id": "_L9gbaWK8K9Y"
      },
      "execution_count": null,
      "outputs": []
    },
    {
      "cell_type": "code",
      "source": [
        "grape_index"
      ],
      "metadata": {
        "id": "uxeeoeaZ8UYz",
        "outputId": "a4638f98-45e6-4072-ec73-46caf546cbb8",
        "colab": {
          "base_uri": "https://localhost:8080/"
        }
      },
      "execution_count": null,
      "outputs": [
        {
          "output_type": "execute_result",
          "data": {
            "text/plain": [
              "2"
            ]
          },
          "metadata": {},
          "execution_count": 26
        }
      ]
    },
    {
      "cell_type": "markdown",
      "source": [
        "## Functions and arguments\n",
        "\n",
        "You can write functions in Python.  Functions do something.  Typically a function takes one or more inputs, uses the input to do its thing, and then returns a value or an output."
      ],
      "metadata": {
        "id": "YNyD8nKN8pmp"
      }
    },
    {
      "cell_type": "code",
      "source": [
        "def add(firstval, secondval):\n",
        "    total = firstval + secondval\n",
        "    print(total)"
      ],
      "metadata": {
        "id": "_IyjJVVX86zo"
      },
      "execution_count": null,
      "outputs": []
    },
    {
      "cell_type": "code",
      "source": [
        "add(10,7)"
      ],
      "metadata": {
        "id": "83QQkjyu9GVh",
        "outputId": "42601de1-092e-4d4a-95fc-876f87234465",
        "colab": {
          "base_uri": "https://localhost:8080/"
        }
      },
      "execution_count": null,
      "outputs": [
        {
          "output_type": "stream",
          "name": "stdout",
          "text": [
            "17\n"
          ]
        }
      ]
    },
    {
      "cell_type": "code",
      "source": [
        "first = 22\n",
        "second = 12\n",
        "add(first,second)"
      ],
      "metadata": {
        "id": "8Hd_GoWD9LFx",
        "outputId": "e63b2cf1-dafe-4324-c448-9184e2d16ff7",
        "colab": {
          "base_uri": "https://localhost:8080/"
        }
      },
      "execution_count": null,
      "outputs": [
        {
          "output_type": "stream",
          "name": "stdout",
          "text": [
            "34\n"
          ]
        }
      ]
    },
    {
      "cell_type": "markdown",
      "source": [
        "Try it yourself below:\n",
        "\n",
        "*   Choose a variable name and give it a value\n",
        "*   Choose another variable name and give it a value\n",
        "*   Add the two values using the add() function\n"
      ],
      "metadata": {
        "id": "2bX_gKIw92bG"
      }
    },
    {
      "cell_type": "code",
      "source": [
        "val_1 = 33\n",
        "val_2 = 20\n",
        "add(val_1, val_2)"
      ],
      "metadata": {
        "id": "NtJlD9efW2Kd",
        "outputId": "e994bea2-339b-4019-d851-46f7acd9aad1",
        "colab": {
          "base_uri": "https://localhost:8080/"
        }
      },
      "execution_count": null,
      "outputs": [
        {
          "output_type": "stream",
          "name": "stdout",
          "text": [
            "53\n"
          ]
        }
      ]
    },
    {
      "cell_type": "markdown",
      "source": [
        "Here is another example.  What do you think it does?"
      ],
      "metadata": {
        "id": "_JJIOM-7-VDa"
      }
    },
    {
      "cell_type": "code",
      "source": [
        "def divide(a,b):\n",
        "  q = a//b\n",
        "  r = a % b\n",
        "  print(str(a) + \" divided by \" + str(b) + \" equals \" + str(q) + \" with a remainder of \" + str(r))\n"
      ],
      "metadata": {
        "id": "6Cufxlpi93iS"
      },
      "execution_count": null,
      "outputs": []
    },
    {
      "cell_type": "code",
      "source": [
        "divide(27,3)"
      ],
      "metadata": {
        "id": "vd-fSVToZLyh",
        "outputId": "b5e3e5b7-a212-46ed-c4d9-2ee4cc21f668",
        "colab": {
          "base_uri": "https://localhost:8080/"
        }
      },
      "execution_count": null,
      "outputs": [
        {
          "output_type": "stream",
          "name": "stdout",
          "text": [
            "27 divided by 3 equals 9 with a remainder of 0\n"
          ]
        }
      ]
    },
    {
      "cell_type": "markdown",
      "source": [
        "## Math operations\n",
        "\n",
        "$+$  addition\n",
        "\n",
        "$-$  subtraction\n",
        "\n",
        "$*$  multiplication\n",
        "\n",
        "$/$  division\n",
        "\n",
        "$**$ exponentiation (not the carat $^$ !)\n",
        "\n",
        "$\\%$  modulus (gives the remainder only, upon division)\n",
        "\n",
        "$//$ floor division (gives the quotient only, upon division)\n",
        "\n",
        "\n",
        "\n",
        "If you want, you can experiment and try to figure out what the carat does."
      ],
      "metadata": {
        "id": "K1nCX4B3-aoW"
      }
    },
    {
      "cell_type": "markdown",
      "source": [
        "Experiment here with variables, lists and indices, and math operations.\n",
        "\n",
        "(If you want, you can try to figure out what the carat does.  It's tricky!  (unless you look it up))"
      ],
      "metadata": {
        "id": "Ufx3yw1EBDst"
      }
    },
    {
      "cell_type": "code",
      "source": [],
      "metadata": {
        "id": "tLnSoA_w_Ph3"
      },
      "execution_count": null,
      "outputs": []
    }
  ]
}