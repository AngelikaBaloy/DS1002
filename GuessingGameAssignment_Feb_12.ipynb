{
  "nbformat": 4,
  "nbformat_minor": 0,
  "metadata": {
    "colab": {
      "provenance": [],
      "authorship_tag": "ABX9TyO8r9PyBMMx9cEfnsd073Rl",
      "include_colab_link": true
    },
    "kernelspec": {
      "name": "python3",
      "display_name": "Python 3"
    },
    "language_info": {
      "name": "python"
    }
  },
  "cells": [
    {
      "cell_type": "markdown",
      "metadata": {
        "id": "view-in-github",
        "colab_type": "text"
      },
      "source": [
        "<a href=\"https://colab.research.google.com/github/AngelikaBaloy/DS1002/blob/main/GuessingGameAssignment_Feb_12.ipynb\" target=\"_parent\"><img src=\"https://colab.research.google.com/assets/colab-badge.svg\" alt=\"Open In Colab\"/></a>"
      ]
    },
    {
      "cell_type": "markdown",
      "source": [
        "Guessing Game Assignment - DS 1002\n",
        "Angelika Baloy"
      ],
      "metadata": {
        "id": "K97o0VY5GTNV"
      }
    },
    {
      "cell_type": "code",
      "source": [
        "import numpy\n",
        "import random\n",
        "\n",
        "print(\"The computer is selecting a number between 0 and 100...\")\n",
        "print(\"Enter your guess from 0-100\")\n",
        "n = random.randint(1,101)\n",
        "\n",
        "success = False\n",
        "\n",
        "while success == False:\n",
        "  guess = input()\n",
        "  try:\n",
        "    if int(n) > int(guess):\n",
        "      print(\"Too Low\")\n",
        "    elif int(n) < int(guess):\n",
        "      print(\"Too High\")\n",
        "    else:\n",
        "      print(\"You got it!\")\n",
        "      success = True\n",
        "  except:\n",
        "      print(\"Invalid input or range\")"
      ],
      "metadata": {
        "id": "OFCqv27YZ_Zh"
      },
      "execution_count": null,
      "outputs": []
    },
    {
      "cell_type": "markdown",
      "source": [
        "~50 minutes"
      ],
      "metadata": {
        "id": "URbkAmRLeWga"
      }
    }
  ]
}