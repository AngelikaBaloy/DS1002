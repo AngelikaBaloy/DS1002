{
  "nbformat": 4,
  "nbformat_minor": 0,
  "metadata": {
    "colab": {
      "provenance": [],
      "include_colab_link": true
    },
    "kernelspec": {
      "name": "python3",
      "display_name": "Python 3"
    },
    "language_info": {
      "name": "python"
    }
  },
  "cells": [
    {
      "cell_type": "markdown",
      "metadata": {
        "id": "view-in-github",
        "colab_type": "text"
      },
      "source": [
        "<a href=\"https://colab.research.google.com/github/AngelikaBaloy/DS1002/blob/main/Copy_of_Due_4_Feb_at_10_pm.ipynb\" target=\"_parent\"><img src=\"https://colab.research.google.com/assets/colab-badge.svg\" alt=\"Open In Colab\"/></a>"
      ]
    },
    {
      "cell_type": "markdown",
      "source": [
        "## DS 1002 homework due Sunday Feb 4 at 10 pm\n"
      ],
      "metadata": {
        "id": "zAw2bmn-TjFJ"
      }
    },
    {
      "cell_type": "markdown",
      "source": [
        "\n",
        "The notebook from Wednesday's class is in my GitHib repository, including the little script we wrote at the end to find mangos in a list of fruit.  The file is called `MorePythonBasics.ipynb`.\n",
        "\n",
        "(By the way I wondered if the correct spelling was \"mangos\" or \"mangoes\" and I found [this](https://www.mango.org/blog-mangos-or-mangoes/)!  Who knew?  There's a National Mango Board!  And they're prepared to adjudicate this and other difficult mango-related questions.)\n",
        "\n",
        "\n"
      ],
      "metadata": {
        "id": "Cmf4xleCSWCu"
      }
    },
    {
      "cell_type": "markdown",
      "source": [
        "### Problem 1:  finding fruit\n",
        "\n",
        "Adapt the function we wrote in class so that it takes two arguments,\n",
        "\n",
        "`fruit` and `hungryfor` ,\n",
        "\n",
        "and then searches through the list `fruit` for the item `hungryfor`.  The line that calls the function should look like\n",
        "\n",
        "`find_fruit(food, hungryfor)`\n",
        "\n",
        "Make it print out the results in the same way, so for example if `food` is what we entered in class and `hungryfor = \"tomatoes\"` then the output will be\n",
        "\n",
        "```python\n",
        "No tomatoes here.\n",
        "No tomatoes here.\n",
        "No tomatoes here.\n",
        "No tomatoes here.\n",
        "No tomatoes here.\n",
        "```\n",
        "Test your code by changing the values of `food` and `hungryfor` and make sure the output is what you expect.  Show a few outputs, each in its own code chunk.\n",
        "\n"
      ],
      "metadata": {
        "id": "rJLyGryAThhp"
      }
    },
    {
      "cell_type": "code",
      "source": [
        "fruit = [\"apples\",\"oranges\",\"mangos\",\"bananas\",\"blueberries\"]\n",
        "\n",
        "def find_fruit(fruit, hungryfor):\n",
        "    for item in fruit:\n",
        "        if item == hungryfor:\n",
        "            print(\"Hooray! I found \",hungryfor)\n",
        "        else:\n",
        "            print(\"No \", hungryfor, \" here.\")\n",
        "\n",
        "hungryfor = \"tomatoes\"\n"
      ],
      "metadata": {
        "id": "yT27gkwifogP"
      },
      "execution_count": null,
      "outputs": []
    },
    {
      "cell_type": "code",
      "source": [
        "# put your first function call here, and make more code chunks for additional function calls\n",
        "find_fruit(food, hungryfor)"
      ],
      "metadata": {
        "id": "bYdqsfrh6KnE",
        "outputId": "7b33fe55-a690-4505-ae68-a1a76f983263",
        "colab": {
          "base_uri": "https://localhost:8080/"
        }
      },
      "execution_count": null,
      "outputs": [
        {
          "output_type": "stream",
          "name": "stdout",
          "text": [
            "No  tomatoes  here.\n",
            "No  tomatoes  here.\n",
            "No  tomatoes  here.\n",
            "No  tomatoes  here.\n",
            "No  tomatoes  here.\n"
          ]
        }
      ]
    },
    {
      "cell_type": "code",
      "source": [
        "fruit2 = [\"apples\", \"tomatoes\", \"tomatoes\", \"mangos\", \"tomatoes\"]\n",
        "find_fruit(fruit2, hungryfor)"
      ],
      "metadata": {
        "id": "gTfgNIU9gqBb",
        "outputId": "1a253304-8580-488c-d9a2-942be00f5b23",
        "colab": {
          "base_uri": "https://localhost:8080/"
        }
      },
      "execution_count": null,
      "outputs": [
        {
          "output_type": "stream",
          "name": "stdout",
          "text": [
            "No  tomatoes  here.\n",
            "Hooray! I found  tomatoes\n",
            "Hooray! I found  tomatoes\n",
            "No  tomatoes  here.\n",
            "Hooray! I found  tomatoes\n"
          ]
        }
      ]
    },
    {
      "cell_type": "markdown",
      "source": [
        "#### Notes\n",
        "1. Once you have run a code chunk in the notebook, it will remember that it has been run.  You don't have to call the function in the same code chunk where the function is defined.  In other words, to call the function with new inputs you can simply make a new code chunk, change the inputs, and call the function.  *You don't have to retype the definition of the function each time.*\n",
        "\n",
        "2. Make sure you clean things up when you're done, so you don't include old code that doesn't work or old incorrect outputs.\n"
      ],
      "metadata": {
        "id": "AMp-a1ym6W7w"
      }
    },
    {
      "cell_type": "markdown",
      "source": [
        "### Problem 2:  the `input()` function\n",
        "\n",
        "(a) Programming gets way more fun when you start to interact with your own programs!  Here is a function that lets you start doing that.  Run the following code and see what happens:\n"
      ],
      "metadata": {
        "id": "R-s9cZ6GYWNX"
      }
    },
    {
      "cell_type": "code",
      "source": [
        "input()\n",
        "print(\"Hello there!\")"
      ],
      "metadata": {
        "id": "IEK8O2qNYkXn",
        "outputId": "d1e17f8a-586a-4d2f-8c6d-a6f5fa31bcad",
        "colab": {
          "base_uri": "https://localhost:8080/"
        }
      },
      "execution_count": null,
      "outputs": [
        {
          "output_type": "stream",
          "name": "stdout",
          "text": [
            "hi\n",
            "Hello there!\n"
          ]
        }
      ]
    },
    {
      "cell_type": "markdown",
      "source": [
        "(b) As you just saw, the code waits for you to enter something before it continues.  If you want to actually use the input in the code, you should assign its value to a variable:"
      ],
      "metadata": {
        "id": "sktZu8wWzFF6"
      }
    },
    {
      "cell_type": "code",
      "source": [
        "message = input()\n",
        "print(message)"
      ],
      "metadata": {
        "id": "fMmBkzbyz9Ty",
        "outputId": "4d24bd2b-80b9-41c1-84ae-154a1e423d30",
        "colab": {
          "base_uri": "https://localhost:8080/"
        }
      },
      "execution_count": null,
      "outputs": [
        {
          "output_type": "stream",
          "name": "stdout",
          "text": [
            "i\n",
            "i\n"
          ]
        }
      ]
    },
    {
      "cell_type": "markdown",
      "source": [
        "(c) Now you can start interacting.  Write some code that asks the user what they are hungry for (using a print statement), and then takes the user input, and then runs the `find_fruit` function from the previous code block using the user input as the `hungryfor` variable.  Test your code, and then include a few different outputs that demonstrate that the code works."
      ],
      "metadata": {
        "id": "ny41z-dQYmjQ"
      }
    },
    {
      "cell_type": "code",
      "source": [
        "# put code here\n",
        "print(\"What are you hungry for?\")\n",
        "message = input()\n",
        "find_fruit(food, message)"
      ],
      "metadata": {
        "id": "SKAVoAZ00xOx",
        "outputId": "4533fabc-530b-4210-ebb3-3052fd4040cf",
        "colab": {
          "base_uri": "https://localhost:8080/"
        }
      },
      "execution_count": null,
      "outputs": [
        {
          "output_type": "stream",
          "name": "stdout",
          "text": [
            "What are you hungry for?\n",
            "apples\n",
            "Hooray! I found  apples\n",
            "No  apples  here.\n",
            "No  apples  here.\n",
            "No  apples  here.\n",
            "No  apples  here.\n"
          ]
        }
      ]
    },
    {
      "cell_type": "code",
      "source": [
        "# run it here, and add more code chunks for more runs\n",
        "print(\"What are you hungry for?\")\n",
        "message = input()\n",
        "find_fruit(food2, message)"
      ],
      "metadata": {
        "id": "sQQVP1oa5dR7",
        "outputId": "4d88bfb2-8325-47f4-bfca-fb996d57738d",
        "colab": {
          "base_uri": "https://localhost:8080/"
        }
      },
      "execution_count": null,
      "outputs": [
        {
          "output_type": "stream",
          "name": "stdout",
          "text": [
            "What are you hungry for?\n",
            "mangos\n",
            "No  mangos  here.\n",
            "No  mangos  here.\n",
            "No  mangos  here.\n",
            "Hooray! I found  mangos\n",
            "No  mangos  here.\n"
          ]
        }
      ]
    },
    {
      "cell_type": "code",
      "source": [
        "print(\"What are you hungry for?\")\n",
        "message = input()\n",
        "find_fruit(food, message)"
      ],
      "metadata": {
        "id": "tGqrC08mkmkr",
        "outputId": "69cfa88e-2450-41be-f8a0-c3eb818c4cf1",
        "colab": {
          "base_uri": "https://localhost:8080/"
        }
      },
      "execution_count": null,
      "outputs": [
        {
          "output_type": "stream",
          "name": "stdout",
          "text": [
            "What are you hungry for?\n",
            "blueberries\n",
            "No  blueberries  here.\n",
            "No  blueberries  here.\n",
            "No  blueberries  here.\n",
            "No  blueberries  here.\n",
            "Hooray! I found  blueberries\n"
          ]
        }
      ]
    },
    {
      "cell_type": "markdown",
      "source": [
        "### Problem 3:  ratings  \n",
        "Write a piece of code which prompts a user with the question \"What is your rating? (1-10)\" and then asks for user input.  Let's say the input is 3.  Once the input is received, print out a message that says.\n",
        "\n",
        "\"Your rating is *** .\"\n",
        "\n",
        "Obviously, your program should print the number of stars corresponding to the input!  If the input is 5, it should print\n",
        "\n",
        "\"Your rating is ***** .\"\n",
        "\n",
        "Show at least two outputs of your code."
      ],
      "metadata": {
        "id": "5CWOlHBz0xoZ"
      }
    },
    {
      "cell_type": "code",
      "source": [
        "# put code here\n",
        "print(\"What is your rating? (1-10)\")\n",
        "3 == input()\n",
        "print(\"Your rating is ***\")"
      ],
      "metadata": {
        "id": "MCWnTAUW2Gin",
        "outputId": "bc9b703a-24c4-4ac7-923d-1e08f0a73c2e",
        "colab": {
          "base_uri": "https://localhost:8080/"
        }
      },
      "execution_count": null,
      "outputs": [
        {
          "output_type": "stream",
          "name": "stdout",
          "text": [
            "What is your rating? (1-10)\n",
            "3\n",
            "Your rating is ***\n"
          ]
        }
      ]
    },
    {
      "cell_type": "code",
      "source": [
        "# you might have to copy the code to show another output\n",
        "# (unless you figure out another way to do it)\n",
        "print(\"What is your rating? (1-10)\")\n",
        "5 == input()\n",
        "print(\"Your rating is *****\")"
      ],
      "metadata": {
        "id": "nxm67oCk8Ukn",
        "outputId": "6edb59fa-f597-4c20-cb0e-c321a0d7a9de",
        "colab": {
          "base_uri": "https://localhost:8080/"
        }
      },
      "execution_count": null,
      "outputs": [
        {
          "output_type": "stream",
          "name": "stdout",
          "text": [
            "What is your rating? (1-10)\n",
            "5\n",
            "Your rating is *****\n"
          ]
        }
      ]
    },
    {
      "cell_type": "markdown",
      "source": [
        "You do not have to do this as part of the assignment, but one thing to think about with any code that has **interactivity** is that you want to make it **robust**.  This means you should imagine someone is *trying* to break your code, and you should try to make it as indestructible as possible.\n",
        "\n",
        "What will happen to your code if someone enters 3.5?  Or -12?  Or \"nonsense\"?  Test it and see.  Think about how you might guard against errors.\n"
      ],
      "metadata": {
        "id": "VRfc9puT2yac"
      }
    }
  ]
}